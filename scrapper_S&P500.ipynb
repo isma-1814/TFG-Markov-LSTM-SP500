{
  "nbformat": 4,
  "nbformat_minor": 0,
  "metadata": {
    "colab": {
      "provenance": []
    },
    "kernelspec": {
      "name": "python3",
      "display_name": "Python 3"
    },
    "language_info": {
      "name": "python"
    }
  },
  "cells": [
    {
      "cell_type": "code",
      "execution_count": null,
      "metadata": {
        "colab": {
          "base_uri": "https://localhost:8080/"
        },
        "id": "VHbdlcm4TskL",
        "outputId": "d765556f-fe29-49c4-8ca3-f3f1787df77e"
      },
      "outputs": [
        {
          "output_type": "stream",
          "name": "stderr",
          "text": [
            "\r[*********************100%***********************]  1 of 1 completed\n"
          ]
        }
      ],
      "source": [
        "import yfinance as yf\n",
        "import pandas as pd\n",
        "\n",
        "# Descargar los datos históricos del S&P 500\n",
        "sp500 = yf.download('^GSPC', start='2024-02-04', end='2025-02-04', interval='1d')\n",
        "\n",
        "# Guardar en un archivo Excel\n",
        "file_name = \"SP500_datos25y.xlsx\"\n",
        "sp500.to_excel(file_name, engine='openpyxl')\n"
      ]
    }
  ]
}